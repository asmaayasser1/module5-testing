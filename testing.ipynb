{
 "cells": [
  {
   "cell_type": "code",
   "execution_count": 2,
   "id": "48da6a43",
   "metadata": {},
   "outputs": [],
   "source": [
    "def sum(arg):\n",
    "    total = 0\n",
    "    for val in arg:\n",
    "        total += val\n",
    "    return total\n"
   ]
  },
  {
   "cell_type": "code",
   "execution_count": 1,
   "id": "4d3ef5f9",
   "metadata": {},
   "outputs": [
    {
     "name": "stderr",
     "output_type": "stream",
     "text": [
      ".F.\n",
      "======================================================================\n",
      "FAIL: test_list_fraction (__main__.TestSum.test_list_fraction)\n",
      "----------------------------------------------------------------------\n",
      "Traceback (most recent call last):\n",
      "  File \"C:\\Users\\asmaa\\AppData\\Local\\Temp\\ipykernel_13148\\2843219217.py\", line 14, in test_list_fraction\n",
      "    self.assertEqual(result, 1)  # intentionally fails\n",
      "    ^^^^^^^^^^^^^^^^^^^^^^^^^^^\n",
      "AssertionError: Fraction(9, 10) != 1\n",
      "\n",
      "----------------------------------------------------------------------\n",
      "Ran 3 tests in 0.010s\n",
      "\n",
      "FAILED (failures=1)\n"
     ]
    },
    {
     "data": {
      "text/plain": [
       "<unittest.runner.TextTestResult run=3 errors=0 failures=1>"
      ]
     },
     "execution_count": 1,
     "metadata": {},
     "output_type": "execute_result"
    }
   ],
   "source": [
    "import unittest\n",
    "from fractions import Fraction\n",
    "\n",
    "class TestSum(unittest.TestCase):\n",
    "\n",
    "    def test_list_int(self):\n",
    "        data = [1, 2, 3]\n",
    "        result = sum(data)\n",
    "        self.assertEqual(result, 6)\n",
    "\n",
    "    def test_list_fraction(self):\n",
    "        data = [Fraction(1, 4), Fraction(1, 4), Fraction(2, 5)]\n",
    "        result = sum(data)\n",
    "        self.assertEqual(result, 1)  # intentionally fails\n",
    "\n",
    "    def test_bad_type(self):\n",
    "        data = \"banana\"\n",
    "        with self.assertRaises(TypeError):\n",
    "            result = sum(data)\n",
    "\n",
    "unittest.TextTestRunner().run(unittest.TestLoader().loadTestsFromTestCase(TestSum))\n"
   ]
  },
  {
   "cell_type": "markdown",
   "id": "29c661ee",
   "metadata": {},
   "source": [
    " Test Results \n",
    "\n",
    "\n",
    "test_list_int**: Passed — the sum of `[1, 2, 3]` is correct.\n",
    "test_list_fraction**: Failed — expected `1`, but got `9/test_bad_type**: Passed — correctly raised a `TypeError` when input was a string.\n",
    "\n"
   ]
  }
 ],
 "metadata": {
  "kernelspec": {
   "display_name": "Python 3",
   "language": "python",
   "name": "python3"
  },
  "language_info": {
   "codemirror_mode": {
    "name": "ipython",
    "version": 3
   },
   "file_extension": ".py",
   "mimetype": "text/x-python",
   "name": "python",
   "nbconvert_exporter": "python",
   "pygments_lexer": "ipython3",
   "version": "3.12.5"
  }
 },
 "nbformat": 4,
 "nbformat_minor": 5
}
